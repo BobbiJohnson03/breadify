{
 "cells": [
  {
   "cell_type": "markdown",
   "metadata": {},
   "source": [
    "testowanie wszystkich endpointów w postmanie"
   ]
  },
  {
   "cell_type": "markdown",
   "metadata": {},
   "source": [
    "Aby przetestować każdy z tych endpointów w Postmanie, wykonaj poniższe kroki. Postman to narzędzie do testowania API, które pozwala wysyłać zapytania HTTP i sprawdzać odpowiedzi. Poniżej znajdziesz instrukcje, jak przetestować każdy z endpointów:"
   ]
  },
  {
   "cell_type": "markdown",
   "metadata": {},
   "source": [
    "1. Endpoint: Pobierz wszystkie produkty (GET)\n",
    "Metoda: GET\n",
    "URL: http://localhost:5000/api/products\n",
    "Opis: Pobiera wszystkie produkty.\n",
    "Kroki:\n",
    "Otwórz Postman.\n",
    "Wybierz metodę GET.\n",
    "Wprowadź URL: http://localhost:5000/api/products.\n",
    "Kliknij Send.\n",
    "Sprawdź odpowiedź w sekcji Body. Powinna zawierać listę produktów."
   ]
  },
  {
   "cell_type": "markdown",
   "metadata": {},
   "source": [
    "2. Endpoint: Pobierz produkty z wyszukiwaniem i filtrowaniem (GET)\n",
    "Metoda: GET\n",
    "URL: http://localhost:5000/api/products?search=<WARTOŚĆ>&category=<WARTOŚĆ>\n",
    "Opis: Pobiera produkty, uwzględniając wyszukiwanie po nazwie i/lub filtr kategorii.\n",
    "Kroki:\n",
    "Otwórz Postman.\n",
    "Wybierz metodę GET.\n",
    "Wprowadź URL, np.:\n",
    "http://localhost:5000/api/products?search=shoes&category=sport Możesz zmienić search na część nazwy, a category na kategorię, którą chcesz filtrować.\n",
    "Kliknij Send.\n",
    "Sprawdź odpowiedź w sekcji Body. Powinna zawierać produkty, które spełniają warunki wyszukiwania."
   ]
  },
  {
   "cell_type": "markdown",
   "metadata": {},
   "source": [
    "3. Endpoint: Utwórz nowy produkt (POST)\n",
    "Metoda: POST\n",
    "URL: http://localhost:5000/api/products\n",
    "Opis: Tworzy nowy produkt.\n",
    "Kroki:\n",
    "Otwórz Postman.\n",
    "Wybierz metodę POST.\n",
    "Wprowadź URL: http://localhost:5000/api/products.\n",
    "Przejdź do zakładki Body.\n",
    "Wybierz opcję raw i ustaw format na JSON.\n",
    "Wprowadź dane produktu w formacie JSON, np.:\n",
    "json\n",
    "Skopiuj kod\n",
    "{\n",
    "  \"name\": \"Nike Shoes\",\n",
    "  \"price\": 100,\n",
    "  \"image\": \"image_url\",\n",
    "  \"category\": \"sport\"\n",
    "}\n",
    "Kliknij Send.\n",
    "Sprawdź odpowiedź w sekcji Body. Powinna zawierać dane utworzonego produktu."
   ]
  },
  {
   "cell_type": "markdown",
   "metadata": {},
   "source": [
    "4. Endpoint: Zaktualizuj produkt (PUT)\n",
    "Metoda: PUT\n",
    "URL: http://localhost:5000/api/products/<ID>\n",
    "Opis: Zaktualizuj produkt o podanym ID.\n",
    "Kroki:\n",
    "Otwórz Postman.\n",
    "Wybierz metodę PUT.\n",
    "Wprowadź URL, np. http://localhost:5000/api/products/60d21b4667d0d8992e610c85 (zastąp <ID> odpowiednim ID produktu).\n",
    "Przejdź do zakładki Body.\n",
    "Wybierz opcję raw i ustaw format na JSON.\n",
    "Wprowadź dane produktu, które chcesz zaktualizować, np.:\n",
    "json\n",
    "Skopiuj kod\n",
    "{\n",
    "  \"name\": \"Nike Running Shoes\",\n",
    "  \"price\": 120,\n",
    "  \"image\": \"new_image_url\",\n",
    "  \"category\": \"sport\"\n",
    "}\n",
    "Kliknij Send.\n",
    "Sprawdź odpowiedź w sekcji Body. Powinna zawierać zaktualizowane dane produktu."
   ]
  },
  {
   "cell_type": "markdown",
   "metadata": {},
   "source": [
    "5. Endpoint: Usuń produkt (DELETE)\n",
    "Metoda: DELETE\n",
    "URL: http://localhost:5000/api/products/<ID>\n",
    "Opis: Usuwa produkt o podanym ID.\n",
    "Kroki:\n",
    "Otwórz Postman.\n",
    "Wybierz metodę DELETE.\n",
    "Wprowadź URL, np. http://localhost:5000/api/products/60d21b4667d0d8992e610c85 (zastąp <ID> odpowiednim ID produktu).\n",
    "Kliknij Send.\n",
    "Sprawdź odpowiedź w sekcji Body. Powinna zawierać komunikat \"Product deleted\", jeśli usunięto produkt.\n",
    "Uwagi:\n",
    "Port serwera: Upewnij się, że Twój backend działa na porcie, na którym wysyłasz zapytania. Jeśli serwer działa na porcie 5000, to URL powinien zaczynać się od http://localhost:5000.\n",
    "ID produktu: W przypadku aktualizacji i usuwania musisz znać ID produktu, który chcesz zmodyfikować lub usunąć. Możesz je uzyskać z odpowiedzi przy pobieraniu produktów.\n",
    "Sprawdzanie odpowiedzi: W każdej odpowiedzi sprawdź status odpowiedzi i dane w ciele odpowiedzi (np. status 200 OK dla udanych zapytań i status 500 dla błędów serwera).\n",
    "Testując API w Postmanie, upewnij się, że serwer działa i jest uruchomiony przed wysyłaniem zapytań."
   ]
  },
  {
   "cell_type": "markdown",
   "metadata": {},
   "source": [
    "GET http://localhost:5000/api/products/:id\n"
   ]
  },
  {
   "cell_type": "markdown",
   "metadata": {},
   "source": []
  }
 ],
 "metadata": {
  "language_info": {
   "name": "python"
  }
 },
 "nbformat": 4,
 "nbformat_minor": 2
}
